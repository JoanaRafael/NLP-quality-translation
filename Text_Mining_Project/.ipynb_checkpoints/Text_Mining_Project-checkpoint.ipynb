{
 "cells": [
  {
   "cell_type": "markdown",
   "metadata": {},
   "source": [
    "# Text Mining Project"
   ]
  },
  {
   "cell_type": "markdown",
   "metadata": {},
   "source": [
    "The goal of this project is to develop a metric that predicts the quality of a translation using the reference. \n",
    "\n",
    "Your metric should correlate well with the existing quality assessments that you have in the above corpus"
   ]
  },
  {
   "cell_type": "code",
   "execution_count": 137,
   "metadata": {},
   "outputs": [
    {
     "name": "stdout",
     "output_type": "stream",
     "text": [
      "Collecting inflect\n",
      "  Downloading inflect-5.3.0-py3-none-any.whl (32 kB)\n",
      "Installing collected packages: inflect\n",
      "Successfully installed inflect-5.3.0\n",
      "Note: you may need to restart the kernel to use updated packages.\n"
     ]
    }
   ],
   "source": [
    "pip install inflect"
   ]
  },
  {
   "cell_type": "code",
   "execution_count": 159,
   "metadata": {},
   "outputs": [],
   "source": [
    "#### Load file\n",
    "\n",
    "import pandas as pd\n",
    "\n",
    "#### Preprocessing\n",
    "import nltk\n",
    "from nltk.corpus import stopwords\n",
    "from nltk.stem.wordnet import WordNetLemmatizer\n",
    "from nltk.tokenize import word_tokenize, RegexpTokenizer, sent_tokenize\n",
    "from nltk.corpus import wordnet\n",
    "from nltk.stem import SnowballStemmer\n",
    "from nltk.stem import LancasterStemmer\n",
    "\n",
    "import re, string, unicodedata\n",
    "#import contractions\n",
    "import inflect ## convert the numbers into words\n",
    "\n",
    "from bs4 import BeautifulSoup\n",
    "\n",
    "\n",
    "from tqdm import tqdm_notebook as tqdm #Customisable progressbar decorator for iterators\n",
    "\n",
    "###\n",
    "from sklearn.model_selection import train_test_split"
   ]
  },
  {
   "cell_type": "markdown",
   "metadata": {},
   "source": [
    "### 1- Data Collection"
   ]
  },
  {
   "cell_type": "code",
   "execution_count": 170,
   "metadata": {},
   "outputs": [],
   "source": [
    "corpus = pd.read_csv(\"de_eng_scores.csv\")"
   ]
  },
  {
   "cell_type": "code",
   "execution_count": 171,
   "metadata": {},
   "outputs": [
    {
     "data": {
      "text/html": [
       "<div>\n",
       "<style scoped>\n",
       "    .dataframe tbody tr th:only-of-type {\n",
       "        vertical-align: middle;\n",
       "    }\n",
       "\n",
       "    .dataframe tbody tr th {\n",
       "        vertical-align: top;\n",
       "    }\n",
       "\n",
       "    .dataframe thead th {\n",
       "        text-align: right;\n",
       "    }\n",
       "</style>\n",
       "<table border=\"1\" class=\"dataframe\">\n",
       "  <thead>\n",
       "    <tr style=\"text-align: right;\">\n",
       "      <th></th>\n",
       "      <th>source</th>\n",
       "      <th>reference</th>\n",
       "      <th>translation</th>\n",
       "      <th>z-score</th>\n",
       "      <th>avg-score</th>\n",
       "      <th>annotators</th>\n",
       "    </tr>\n",
       "  </thead>\n",
       "  <tbody>\n",
       "    <tr>\n",
       "      <th>0</th>\n",
       "      <td>Ihr Zeitlupentempo maßen sie, als sie vor Spit...</td>\n",
       "      <td>Her timeless pace measures them when they equi...</td>\n",
       "      <td>Their slow speed was measured by researchers o...</td>\n",
       "      <td>-0.345024</td>\n",
       "      <td>76.0</td>\n",
       "      <td>1</td>\n",
       "    </tr>\n",
       "    <tr>\n",
       "      <th>1</th>\n",
       "      <td>Er sagte, dass die Bereiche ruhige Treffpunkte...</td>\n",
       "      <td>He said the areas offer quiet meeting points b...</td>\n",
       "      <td>He said the spaces provided calm meeting point...</td>\n",
       "      <td>0.903800</td>\n",
       "      <td>97.5</td>\n",
       "      <td>2</td>\n",
       "    </tr>\n",
       "    <tr>\n",
       "      <th>2</th>\n",
       "      <td>Für die Geschäftsleute an der B 27 ist es nur ...</td>\n",
       "      <td>For businessmen at the B 27, it's only a small...</td>\n",
       "      <td>This is only a small consolation for businesse...</td>\n",
       "      <td>0.700503</td>\n",
       "      <td>94.0</td>\n",
       "      <td>1</td>\n",
       "    </tr>\n",
       "    <tr>\n",
       "      <th>3</th>\n",
       "      <td>Diese Fähigkeit sei möglicherweise angeboren o...</td>\n",
       "      <td>This ability may be born or developed with gen...</td>\n",
       "      <td>This ability may be innate, or may develop as ...</td>\n",
       "      <td>-1.256572</td>\n",
       "      <td>51.5</td>\n",
       "      <td>2</td>\n",
       "    </tr>\n",
       "    <tr>\n",
       "      <th>4</th>\n",
       "      <td>Weil sie Wassertemperaturen um die sechs Grad ...</td>\n",
       "      <td>Because they prefer water temperatures around ...</td>\n",
       "      <td>They generally only come to the surface in win...</td>\n",
       "      <td>0.293909</td>\n",
       "      <td>87.0</td>\n",
       "      <td>2</td>\n",
       "    </tr>\n",
       "    <tr>\n",
       "      <th>...</th>\n",
       "      <td>...</td>\n",
       "      <td>...</td>\n",
       "      <td>...</td>\n",
       "      <td>...</td>\n",
       "      <td>...</td>\n",
       "      <td>...</td>\n",
       "    </tr>\n",
       "    <tr>\n",
       "      <th>21699</th>\n",
       "      <td>Lt. Cmdr. Patrick Evans, ein Pressesprecher de...</td>\n",
       "      <td>Lt. Cmdr. Patrick Evans, a press officer at th...</td>\n",
       "      <td>Lt. Cmdr. Patrick Evans, a Pentagon spokesman,...</td>\n",
       "      <td>1.246459</td>\n",
       "      <td>100.0</td>\n",
       "      <td>1</td>\n",
       "    </tr>\n",
       "    <tr>\n",
       "      <th>21700</th>\n",
       "      <td>\"Um ein Beispiel zu geben: Wenn ich ihn etwas ...</td>\n",
       "      <td>\"To give an example: If I ask him something th...</td>\n",
       "      <td>\"To give an example: If I ask him what happene...</td>\n",
       "      <td>0.792878</td>\n",
       "      <td>98.0</td>\n",
       "      <td>1</td>\n",
       "    </tr>\n",
       "    <tr>\n",
       "      <th>21701</th>\n",
       "      <td>Ein Grund dafür, dass nicht alle Nachbarn das ...</td>\n",
       "      <td>One reason that not all neighbours view this a...</td>\n",
       "      <td>One reason for not all neighbours seeing this ...</td>\n",
       "      <td>0.597068</td>\n",
       "      <td>76.0</td>\n",
       "      <td>1</td>\n",
       "    </tr>\n",
       "    <tr>\n",
       "      <th>21702</th>\n",
       "      <td>Der Gewinn vor Zinsen und Steuern erhöhte sich...</td>\n",
       "      <td>Profit before interest and tax increased from ...</td>\n",
       "      <td>Profits before interest and taxes increased fr...</td>\n",
       "      <td>-0.305719</td>\n",
       "      <td>61.0</td>\n",
       "      <td>1</td>\n",
       "    </tr>\n",
       "    <tr>\n",
       "      <th>21703</th>\n",
       "      <td>Großbritannien und die Vereinigten Staaten wer...</td>\n",
       "      <td>Britain and the United States will clash on Sa...</td>\n",
       "      <td>Britain and the United States will meet on Sat...</td>\n",
       "      <td>0.995212</td>\n",
       "      <td>97.0</td>\n",
       "      <td>1</td>\n",
       "    </tr>\n",
       "  </tbody>\n",
       "</table>\n",
       "<p>21704 rows × 6 columns</p>\n",
       "</div>"
      ],
      "text/plain": [
       "                                                  source  \\\n",
       "0      Ihr Zeitlupentempo maßen sie, als sie vor Spit...   \n",
       "1      Er sagte, dass die Bereiche ruhige Treffpunkte...   \n",
       "2      Für die Geschäftsleute an der B 27 ist es nur ...   \n",
       "3      Diese Fähigkeit sei möglicherweise angeboren o...   \n",
       "4      Weil sie Wassertemperaturen um die sechs Grad ...   \n",
       "...                                                  ...   \n",
       "21699  Lt. Cmdr. Patrick Evans, ein Pressesprecher de...   \n",
       "21700  \"Um ein Beispiel zu geben: Wenn ich ihn etwas ...   \n",
       "21701  Ein Grund dafür, dass nicht alle Nachbarn das ...   \n",
       "21702  Der Gewinn vor Zinsen und Steuern erhöhte sich...   \n",
       "21703  Großbritannien und die Vereinigten Staaten wer...   \n",
       "\n",
       "                                               reference  \\\n",
       "0      Her timeless pace measures them when they equi...   \n",
       "1      He said the areas offer quiet meeting points b...   \n",
       "2      For businessmen at the B 27, it's only a small...   \n",
       "3      This ability may be born or developed with gen...   \n",
       "4      Because they prefer water temperatures around ...   \n",
       "...                                                  ...   \n",
       "21699  Lt. Cmdr. Patrick Evans, a press officer at th...   \n",
       "21700  \"To give an example: If I ask him something th...   \n",
       "21701  One reason that not all neighbours view this a...   \n",
       "21702  Profit before interest and tax increased from ...   \n",
       "21703  Britain and the United States will clash on Sa...   \n",
       "\n",
       "                                             translation   z-score  avg-score  \\\n",
       "0      Their slow speed was measured by researchers o... -0.345024       76.0   \n",
       "1      He said the spaces provided calm meeting point...  0.903800       97.5   \n",
       "2      This is only a small consolation for businesse...  0.700503       94.0   \n",
       "3      This ability may be innate, or may develop as ... -1.256572       51.5   \n",
       "4      They generally only come to the surface in win...  0.293909       87.0   \n",
       "...                                                  ...       ...        ...   \n",
       "21699  Lt. Cmdr. Patrick Evans, a Pentagon spokesman,...  1.246459      100.0   \n",
       "21700  \"To give an example: If I ask him what happene...  0.792878       98.0   \n",
       "21701  One reason for not all neighbours seeing this ...  0.597068       76.0   \n",
       "21702  Profits before interest and taxes increased fr... -0.305719       61.0   \n",
       "21703  Britain and the United States will meet on Sat...  0.995212       97.0   \n",
       "\n",
       "       annotators  \n",
       "0               1  \n",
       "1               2  \n",
       "2               1  \n",
       "3               2  \n",
       "4               2  \n",
       "...           ...  \n",
       "21699           1  \n",
       "21700           1  \n",
       "21701           1  \n",
       "21702           1  \n",
       "21703           1  \n",
       "\n",
       "[21704 rows x 6 columns]"
      ]
     },
     "execution_count": 171,
     "metadata": {},
     "output_type": "execute_result"
    }
   ],
   "source": [
    "corpus"
   ]
  },
  {
   "cell_type": "markdown",
   "metadata": {},
   "source": [
    "### 2-  Data  Preprocessing:\n",
    "(Noise Removal and Normalization)\n",
    "\n",
    " - converting all letters to lower\n",
    " - converting numbers into words\n",
    " - removing punctuations, accent marks and other diacritics\n",
    " - removing white spaces\n",
    " - expanding abbreviations\n",
    " - removing stop words, sparse terms, and particular words\n",
    " - Collocations ( word combinations occurring together more often than would be expected by chance)\n",
    " - canonical form ( ex: b4 -> before)"
   ]
  },
  {
   "cell_type": "code",
   "execution_count": 172,
   "metadata": {},
   "outputs": [
    {
     "name": "stderr",
     "output_type": "stream",
     "text": [
      "[nltk_data] Downloading package wordnet to\n",
      "[nltk_data]     /Users/joanarafael/nltk_data...\n",
      "[nltk_data]   Package wordnet is already up-to-date!\n",
      "[nltk_data] Downloading package stopwords to\n",
      "[nltk_data]     /Users/joanarafael/nltk_data...\n",
      "[nltk_data]   Package stopwords is already up-to-date!\n"
     ]
    },
    {
     "data": {
      "text/plain": [
       "True"
      ]
     },
     "execution_count": 172,
     "metadata": {},
     "output_type": "execute_result"
    }
   ],
   "source": [
    "nltk.download('wordnet')\n",
    "nltk.download('stopwords')"
   ]
  },
  {
   "cell_type": "code",
   "execution_count": 175,
   "metadata": {},
   "outputs": [],
   "source": [
    "def preprocessing(dataframe,stopword_type):\n",
    "    \n",
    "    processed_corpus = []\n",
    "    \n",
    "    stop_words = set(stopwords.words(str(stopword_type)))\n",
    "    \n",
    "    \n",
    "    \n",
    "    for i in tqdm(range(len(dataframe))):\n",
    "        \n",
    "        text = dataframe.iloc[i]\n",
    "        \n",
    "        #Remove punctuations\n",
    "        \n",
    "        \n",
    "        if stopword_type == \"german\":\n",
    "            text=re.sub('[^a-zA-ZäöüÄÖÜß]]', ' ', text)\n",
    "        else:\n",
    "            text = re.sub('[^a-zA-Z]', ' ', text)\n",
    "            \n",
    "        \n",
    "        # Convert the numbers into words\n",
    "        \n",
    "        if text.isdigit():\n",
    "            text= text.inflect.engine\n",
    "\n",
    "        #Convert to lowercase\n",
    "        text = text.lower()\n",
    "\n",
    "        #Remove tags ( Denoise)\n",
    "        text = BeautifulSoup(text).get_text()\n",
    "        \n",
    "        # Convert to list from string\n",
    "        text = text.split()\n",
    "\n",
    "        #Lemmatisation\n",
    "        \n",
    "        lem = WordNetLemmatizer()\n",
    "        \n",
    "        text = [lem.lemmatize(word) for word in text if not word in stop_words] \n",
    "        \n",
    "        text = \" \".join(text)\n",
    "        \n",
    "    \n",
    "        processed_corpus.append(text)\n",
    "        \n",
    "        \n",
    "    return processed_corpus"
   ]
  },
  {
   "cell_type": "code",
   "execution_count": 176,
   "metadata": {
    "scrolled": false
   },
   "outputs": [
    {
     "name": "stderr",
     "output_type": "stream",
     "text": [
      "<ipython-input-175-e4c9c2f35af6>:9: TqdmDeprecationWarning: This function will be removed in tqdm==5.0.0\n",
      "Please use `tqdm.notebook.tqdm` instead of `tqdm.tqdm_notebook`\n",
      "  for i in tqdm(range(len(dataframe))):\n"
     ]
    },
    {
     "data": {
      "application/vnd.jupyter.widget-view+json": {
       "model_id": "1a31d74b87f6461789fbb0e97638cdab",
       "version_major": 2,
       "version_minor": 0
      },
      "text/plain": [
       "HBox(children=(HTML(value=''), FloatProgress(value=0.0, max=21704.0), HTML(value='')))"
      ]
     },
     "metadata": {},
     "output_type": "display_data"
    },
    {
     "name": "stdout",
     "output_type": "stream",
     "text": [
      "\n"
     ]
    },
    {
     "data": {
      "application/vnd.jupyter.widget-view+json": {
       "model_id": "b230ba9855b84e0887a451e8c3a0769b",
       "version_major": 2,
       "version_minor": 0
      },
      "text/plain": [
       "HBox(children=(HTML(value=''), FloatProgress(value=0.0, max=21704.0), HTML(value='')))"
      ]
     },
     "metadata": {},
     "output_type": "display_data"
    },
    {
     "name": "stdout",
     "output_type": "stream",
     "text": [
      "\n"
     ]
    },
    {
     "data": {
      "application/vnd.jupyter.widget-view+json": {
       "model_id": "a561c473bc4f439a9fe1b9005f6d2413",
       "version_major": 2,
       "version_minor": 0
      },
      "text/plain": [
       "HBox(children=(HTML(value=''), FloatProgress(value=0.0, max=21704.0), HTML(value='')))"
      ]
     },
     "metadata": {},
     "output_type": "display_data"
    },
    {
     "name": "stdout",
     "output_type": "stream",
     "text": [
      "\n"
     ]
    }
   ],
   "source": [
    "corpus[\"reference\"]=preprocessing(corpus[\"reference\"], \"english\")\n",
    "corpus[\"source\"]=preprocessing(corpus[\"source\"], \"german\")\n",
    "corpus[\"translation\"]=preprocessing(corpus[\"translation\"], \"english\")"
   ]
  },
  {
   "cell_type": "code",
   "execution_count": 177,
   "metadata": {},
   "outputs": [
    {
     "data": {
      "text/html": [
       "<div>\n",
       "<style scoped>\n",
       "    .dataframe tbody tr th:only-of-type {\n",
       "        vertical-align: middle;\n",
       "    }\n",
       "\n",
       "    .dataframe tbody tr th {\n",
       "        vertical-align: top;\n",
       "    }\n",
       "\n",
       "    .dataframe thead th {\n",
       "        text-align: right;\n",
       "    }\n",
       "</style>\n",
       "<table border=\"1\" class=\"dataframe\">\n",
       "  <thead>\n",
       "    <tr style=\"text-align: right;\">\n",
       "      <th></th>\n",
       "      <th>source</th>\n",
       "      <th>reference</th>\n",
       "      <th>translation</th>\n",
       "      <th>z-score</th>\n",
       "      <th>avg-score</th>\n",
       "      <th>annotators</th>\n",
       "    </tr>\n",
       "  </thead>\n",
       "  <tbody>\n",
       "    <tr>\n",
       "      <th>0</th>\n",
       "      <td>zeitlupentempo maßen sie, spitzbergen sechs ti...</td>\n",
       "      <td>timeless pace measure equipped six animal broa...</td>\n",
       "      <td>slow speed measured researcher svalbard fitted...</td>\n",
       "      <td>-0.345024</td>\n",
       "      <td>76.0</td>\n",
       "      <td>1</td>\n",
       "    </tr>\n",
       "    <tr>\n",
       "      <th>1</th>\n",
       "      <td>sagte, bereiche ruhige treffpunkte flüchtlinge...</td>\n",
       "      <td>said area offer quiet meeting point refugee vo...</td>\n",
       "      <td>said space provided calm meeting point refugee...</td>\n",
       "      <td>0.903800</td>\n",
       "      <td>97.5</td>\n",
       "      <td>2</td>\n",
       "    </tr>\n",
       "    <tr>\n",
       "      <th>2</th>\n",
       "      <td>geschäftsleute b 27 kleiner trost, kunden rott...</td>\n",
       "      <td>businessmen b small consolation customer rotte...</td>\n",
       "      <td>small consolation business located along b roa...</td>\n",
       "      <td>0.700503</td>\n",
       "      <td>94.0</td>\n",
       "      <td>1</td>\n",
       "    </tr>\n",
       "    <tr>\n",
       "      <th>3</th>\n",
       "      <td>fähigkeit sei möglicherweise angeboren entwick...</td>\n",
       "      <td>ability may born developed gender maturity</td>\n",
       "      <td>ability may innate may develop animal reach se...</td>\n",
       "      <td>-1.256572</td>\n",
       "      <td>51.5</td>\n",
       "      <td>2</td>\n",
       "    </tr>\n",
       "    <tr>\n",
       "      <th>4</th>\n",
       "      <td>wassertemperaturen sechs grad celsius bevorzug...</td>\n",
       "      <td>prefer water temperature around six degree cel...</td>\n",
       "      <td>generally come surface winter prefer water tem...</td>\n",
       "      <td>0.293909</td>\n",
       "      <td>87.0</td>\n",
       "      <td>2</td>\n",
       "    </tr>\n",
       "    <tr>\n",
       "      <th>...</th>\n",
       "      <td>...</td>\n",
       "      <td>...</td>\n",
       "      <td>...</td>\n",
       "      <td>...</td>\n",
       "      <td>...</td>\n",
       "      <td>...</td>\n",
       "    </tr>\n",
       "    <tr>\n",
       "      <th>21699</th>\n",
       "      <td>lt. cmdr. patrick evans, pressesprecher pentag...</td>\n",
       "      <td>lt cmdr patrick evans press officer pentagon a...</td>\n",
       "      <td>lt cmdr patrick evans pentagon spokesman said ...</td>\n",
       "      <td>1.246459</td>\n",
       "      <td>100.0</td>\n",
       "      <td>1</td>\n",
       "    </tr>\n",
       "    <tr>\n",
       "      <th>21700</th>\n",
       "      <td>\"um beispiel geben: frage, zwei jahre zurückli...</td>\n",
       "      <td>give example ask something two year back sang ...</td>\n",
       "      <td>give example ask happened two year ago sang mi...</td>\n",
       "      <td>0.792878</td>\n",
       "      <td>98.0</td>\n",
       "      <td>1</td>\n",
       "    </tr>\n",
       "    <tr>\n",
       "      <th>21701</th>\n",
       "      <td>grund dafür, nachbarn problem ansehen, sein, k...</td>\n",
       "      <td>one reason neighbour view problem may necessar...</td>\n",
       "      <td>one reason neighbour seeing problem could dire...</td>\n",
       "      <td>0.597068</td>\n",
       "      <td>76.0</td>\n",
       "      <td>1</td>\n",
       "    </tr>\n",
       "    <tr>\n",
       "      <th>21702</th>\n",
       "      <td>gewinn zinsen steuern erhöhte laut zwischenbil...</td>\n",
       "      <td>profit interest tax increased million million ...</td>\n",
       "      <td>profit interest tax increased million euro mil...</td>\n",
       "      <td>-0.305719</td>\n",
       "      <td>61.0</td>\n",
       "      <td>1</td>\n",
       "    </tr>\n",
       "    <tr>\n",
       "      <th>21703</th>\n",
       "      <td>großbritannien vereinigten staaten samstag let...</td>\n",
       "      <td>britain united state clash saturday last game ...</td>\n",
       "      <td>britain united state meet saturday last game f...</td>\n",
       "      <td>0.995212</td>\n",
       "      <td>97.0</td>\n",
       "      <td>1</td>\n",
       "    </tr>\n",
       "  </tbody>\n",
       "</table>\n",
       "<p>21704 rows × 6 columns</p>\n",
       "</div>"
      ],
      "text/plain": [
       "                                                  source  \\\n",
       "0      zeitlupentempo maßen sie, spitzbergen sechs ti...   \n",
       "1      sagte, bereiche ruhige treffpunkte flüchtlinge...   \n",
       "2      geschäftsleute b 27 kleiner trost, kunden rott...   \n",
       "3      fähigkeit sei möglicherweise angeboren entwick...   \n",
       "4      wassertemperaturen sechs grad celsius bevorzug...   \n",
       "...                                                  ...   \n",
       "21699  lt. cmdr. patrick evans, pressesprecher pentag...   \n",
       "21700  \"um beispiel geben: frage, zwei jahre zurückli...   \n",
       "21701  grund dafür, nachbarn problem ansehen, sein, k...   \n",
       "21702  gewinn zinsen steuern erhöhte laut zwischenbil...   \n",
       "21703  großbritannien vereinigten staaten samstag let...   \n",
       "\n",
       "                                               reference  \\\n",
       "0      timeless pace measure equipped six animal broa...   \n",
       "1      said area offer quiet meeting point refugee vo...   \n",
       "2      businessmen b small consolation customer rotte...   \n",
       "3             ability may born developed gender maturity   \n",
       "4      prefer water temperature around six degree cel...   \n",
       "...                                                  ...   \n",
       "21699  lt cmdr patrick evans press officer pentagon a...   \n",
       "21700  give example ask something two year back sang ...   \n",
       "21701  one reason neighbour view problem may necessar...   \n",
       "21702  profit interest tax increased million million ...   \n",
       "21703  britain united state clash saturday last game ...   \n",
       "\n",
       "                                             translation   z-score  avg-score  \\\n",
       "0      slow speed measured researcher svalbard fitted... -0.345024       76.0   \n",
       "1      said space provided calm meeting point refugee...  0.903800       97.5   \n",
       "2      small consolation business located along b roa...  0.700503       94.0   \n",
       "3      ability may innate may develop animal reach se... -1.256572       51.5   \n",
       "4      generally come surface winter prefer water tem...  0.293909       87.0   \n",
       "...                                                  ...       ...        ...   \n",
       "21699  lt cmdr patrick evans pentagon spokesman said ...  1.246459      100.0   \n",
       "21700  give example ask happened two year ago sang mi...  0.792878       98.0   \n",
       "21701  one reason neighbour seeing problem could dire...  0.597068       76.0   \n",
       "21702  profit interest tax increased million euro mil... -0.305719       61.0   \n",
       "21703  britain united state meet saturday last game f...  0.995212       97.0   \n",
       "\n",
       "       annotators  \n",
       "0               1  \n",
       "1               2  \n",
       "2               1  \n",
       "3               2  \n",
       "4               2  \n",
       "...           ...  \n",
       "21699           1  \n",
       "21700           1  \n",
       "21701           1  \n",
       "21702           1  \n",
       "21703           1  \n",
       "\n",
       "[21704 rows x 6 columns]"
      ]
     },
     "execution_count": 177,
     "metadata": {},
     "output_type": "execute_result"
    }
   ],
   "source": [
    "corpus"
   ]
  },
  {
   "cell_type": "markdown",
   "metadata": {},
   "source": [
    "### 3- Data Exploration / Visualization\n",
    "\n"
   ]
  },
  {
   "cell_type": "markdown",
   "metadata": {},
   "source": [
    "3.1 Create a BOW"
   ]
  },
  {
   "cell_type": "code",
   "execution_count": 163,
   "metadata": {},
   "outputs": [],
   "source": [
    "from sklearn.feature_extraction.text import CountVectorizer\n",
    "\n",
    "\n",
    "cv = CountVectorizer(\n",
    "    max_df=0.8,\n",
    "    stop_words=\"english\", \n",
    "    max_features=10000, \n",
    "    ngram_range=(1,3)\n",
    ")"
   ]
  },
  {
   "cell_type": "code",
   "execution_count": 165,
   "metadata": {},
   "outputs": [],
   "source": [
    "X = cv.fit_transform(corpus[\"reference\"])"
   ]
  },
  {
   "cell_type": "code",
   "execution_count": 166,
   "metadata": {},
   "outputs": [
    {
     "data": {
      "text/plain": [
       "['timeless',\n",
       " 'pace',\n",
       " 'measure',\n",
       " 'equipped',\n",
       " 'animal',\n",
       " 'broadcaster',\n",
       " 'spitsbergen',\n",
       " 'said',\n",
       " 'area',\n",
       " 'offer']"
      ]
     },
     "execution_count": 166,
     "metadata": {},
     "output_type": "execute_result"
    }
   ],
   "source": [
    "list(cv.vocabulary_.keys())[:10]"
   ]
  },
  {
   "cell_type": "markdown",
   "metadata": {},
   "source": [
    "###  4- Models Building"
   ]
  },
  {
   "cell_type": "markdown",
   "metadata": {},
   "source": [
    "### Quality of Estimation\n",
    "- #### Levels of Granularity\n",
    "    - Word level, QE is concerned with predicting binary labels for words based on whether they were translated correctly or not.\n",
    "    - Phrase-level QE aims to predict the quality of translated phrases and is derived from word-level results.\n",
    "    - Sentence-level QE aims at assigning a score to a translated sentence based on the number of words that need to be changed in order to match the text provided in the nearest reference translation"
   ]
  },
  {
   "cell_type": "code",
   "execution_count": null,
   "metadata": {},
   "outputs": [],
   "source": []
  },
  {
   "cell_type": "code",
   "execution_count": null,
   "metadata": {},
   "outputs": [],
   "source": []
  },
  {
   "cell_type": "markdown",
   "metadata": {},
   "source": [
    "### 5- Models Evaluation"
   ]
  },
  {
   "cell_type": "markdown",
   "metadata": {},
   "source": [
    "#### Bilingual Evaluation Understudy (BLEU)"
   ]
  },
  {
   "cell_type": "code",
   "execution_count": null,
   "metadata": {},
   "outputs": [],
   "source": []
  },
  {
   "cell_type": "code",
   "execution_count": null,
   "metadata": {},
   "outputs": [],
   "source": []
  },
  {
   "cell_type": "code",
   "execution_count": null,
   "metadata": {},
   "outputs": [],
   "source": []
  },
  {
   "cell_type": "code",
   "execution_count": null,
   "metadata": {},
   "outputs": [],
   "source": []
  }
 ],
 "metadata": {
  "kernelspec": {
   "display_name": "Python 3",
   "language": "python",
   "name": "python3"
  },
  "language_info": {
   "codemirror_mode": {
    "name": "ipython",
    "version": 3
   },
   "file_extension": ".py",
   "mimetype": "text/x-python",
   "name": "python",
   "nbconvert_exporter": "python",
   "pygments_lexer": "ipython3",
   "version": "3.8.5"
  }
 },
 "nbformat": 4,
 "nbformat_minor": 4
}
